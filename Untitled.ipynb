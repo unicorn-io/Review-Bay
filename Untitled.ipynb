{
 "cells": [
  {
   "cell_type": "code",
   "execution_count": 22,
   "metadata": {},
   "outputs": [],
   "source": [
    "import pandas as pd"
   ]
  },
  {
   "cell_type": "code",
   "execution_count": 23,
   "metadata": {},
   "outputs": [],
   "source": [
    "data = pd.read_csv('a.csv')"
   ]
  },
  {
   "cell_type": "code",
   "execution_count": 24,
   "metadata": {},
   "outputs": [
    {
     "data": {
      "text/html": [
       "<div>\n",
       "<style scoped>\n",
       "    .dataframe tbody tr th:only-of-type {\n",
       "        vertical-align: middle;\n",
       "    }\n",
       "\n",
       "    .dataframe tbody tr th {\n",
       "        vertical-align: top;\n",
       "    }\n",
       "\n",
       "    .dataframe thead th {\n",
       "        text-align: right;\n",
       "    }\n",
       "</style>\n",
       "<table border=\"1\" class=\"dataframe\">\n",
       "  <thead>\n",
       "    <tr style=\"text-align: right;\">\n",
       "      <th></th>\n",
       "      <th>ProdID</th>\n",
       "      <th>Name</th>\n",
       "      <th>Good</th>\n",
       "      <th>Bad</th>\n",
       "      <th>Neutral</th>\n",
       "      <th>Review</th>\n",
       "    </tr>\n",
       "  </thead>\n",
       "  <tbody>\n",
       "    <tr>\n",
       "      <th>0</th>\n",
       "      <td>555673</td>\n",
       "      <td>Pricilla Bellini</td>\n",
       "      <td>0</td>\n",
       "      <td>0</td>\n",
       "      <td>0</td>\n",
       "      <td>NaN</td>\n",
       "    </tr>\n",
       "    <tr>\n",
       "      <th>1</th>\n",
       "      <td>6205345</td>\n",
       "      <td>Marisela Holsey</td>\n",
       "      <td>0</td>\n",
       "      <td>0</td>\n",
       "      <td>0</td>\n",
       "      <td>NaN</td>\n",
       "    </tr>\n",
       "    <tr>\n",
       "      <th>2</th>\n",
       "      <td>8428471</td>\n",
       "      <td>Krysten Obermiller</td>\n",
       "      <td>0</td>\n",
       "      <td>1</td>\n",
       "      <td>0</td>\n",
       "      <td>NaN</td>\n",
       "    </tr>\n",
       "    <tr>\n",
       "      <th>3</th>\n",
       "      <td>9323886</td>\n",
       "      <td>Octavio Michalik</td>\n",
       "      <td>1</td>\n",
       "      <td>0</td>\n",
       "      <td>0</td>\n",
       "      <td>NaN</td>\n",
       "    </tr>\n",
       "    <tr>\n",
       "      <th>4</th>\n",
       "      <td>5417656</td>\n",
       "      <td>Maya Letarte</td>\n",
       "      <td>0</td>\n",
       "      <td>0</td>\n",
       "      <td>1</td>\n",
       "      <td>NaN</td>\n",
       "    </tr>\n",
       "  </tbody>\n",
       "</table>\n",
       "</div>"
      ],
      "text/plain": [
       "    ProdID                  Name  Good  Bad  Neutral  Review\n",
       "0   555673    Pricilla Bellini       0    0        0     NaN\n",
       "1  6205345     Marisela Holsey       0    0        0     NaN\n",
       "2  8428471  Krysten Obermiller       0    1        0     NaN\n",
       "3  9323886    Octavio Michalik       1    0        0     NaN\n",
       "4  5417656        Maya Letarte       0    0        1     NaN"
      ]
     },
     "execution_count": 24,
     "metadata": {},
     "output_type": "execute_result"
    }
   ],
   "source": [
    "data.head()"
   ]
  },
  {
   "cell_type": "code",
   "execution_count": 25,
   "metadata": {},
   "outputs": [],
   "source": [
    "k =(len(data['ProdID']))"
   ]
  },
  {
   "cell_type": "code",
   "execution_count": 26,
   "metadata": {},
   "outputs": [
    {
     "data": {
      "text/plain": [
       "17"
      ]
     },
     "execution_count": 26,
     "metadata": {},
     "output_type": "execute_result"
    }
   ],
   "source": [
    "list(data['Good'].value_counts())[1]\n",
    "        \n",
    "    "
   ]
  },
  {
   "cell_type": "code",
   "execution_count": 30,
   "metadata": {},
   "outputs": [
    {
     "data": {
      "text/plain": [
       "6"
      ]
     },
     "execution_count": 30,
     "metadata": {},
     "output_type": "execute_result"
    }
   ],
   "source": [
    "len(data.columns)"
   ]
  },
  {
   "cell_type": "code",
   "execution_count": 32,
   "metadata": {},
   "outputs": [
    {
     "data": {
      "text/plain": [
       "[[555673, 'Pricilla Bellini  ', 0, 0, 0, nan],\n",
       " [6205345, 'Marisela Holsey  ', 0, 0, 0, nan],\n",
       " [8428471, 'Krysten Obermiller  ', 0, 1, 0, nan],\n",
       " [9323886, 'Octavio Michalik  ', 1, 0, 0, nan],\n",
       " [5417656, 'Maya Letarte  ', 0, 0, 1, nan],\n",
       " [9152258, 'Lucilla Husby  ', 0, 0, 0, nan],\n",
       " [2622763, 'Colene Monsivais  ', 1, 1, 1, nan],\n",
       " [9005608, 'Lucretia Hardaway  ', 1, 1, 1, nan],\n",
       " [5620648, 'Carline Miah  ', 0, 0, 0, nan],\n",
       " [4587393, 'Cary Baxter  ', 0, 0, 0, nan],\n",
       " [1429373, 'Cira Curlee  ', 0, 1, 0, nan],\n",
       " [3259178, 'Mohammad Rexroat  ', 0, 0, 0, nan],\n",
       " [4640931, 'Loyd Favero  ', 0, 0, 1, nan],\n",
       " [2104816, 'Sanora Rothchild  ', 0, 0, 0, nan],\n",
       " [1100603, 'Odelia Ashmore  ', 0, 1, 1, nan],\n",
       " [7216041, 'Colin Schott  ', 1, 1, 1, nan],\n",
       " [6210842, 'Mercy Coram  ', 0, 1, 0, nan],\n",
       " [7026288, 'Adelaida Bonnell  ', 1, 1, 0, nan],\n",
       " [1494734, 'Omer Robnett  ', 0, 0, 0, nan],\n",
       " [7080371, 'Cathrine Domer  ', 0, 0, 0, nan],\n",
       " [852605, 'Genevive Canavan  ', 1, 0, 0, nan],\n",
       " [3757687, 'Lieselotte Nilsen  ', 1, 0, 1, nan],\n",
       " [776744, 'Tish Mccreary  ', 0, 1, 0, nan],\n",
       " [9289216, 'Domonique Albee  ', 0, 0, 1, nan],\n",
       " [913590, 'Sanford Garrels  ', 1, 0, 0, nan],\n",
       " [1148122, 'Mattie Krueger  ', 0, 0, 0, nan],\n",
       " [587579, 'Jovan Duplessis  ', 1, 0, 0, nan],\n",
       " [2280226, 'Birdie Mauney  ', 1, 0, 1, nan],\n",
       " [1784326, 'Kittie Laakso  ', 1, 1, 1, nan],\n",
       " [6586453, 'Yasuko Waldroup  ', 0, 0, 0, nan],\n",
       " [300283, 'Candice Bibeau  ', 0, 0, 0, nan],\n",
       " [4213657, 'Brittani Dalman  ', 0, 0, 0, nan],\n",
       " [4316802, 'Raguel Hills  ', 0, 1, 0, nan],\n",
       " [6011385, 'Lena Sprenger  ', 0, 0, 1, nan],\n",
       " [7118786, 'Leeann Andress  ', 0, 0, 1, nan],\n",
       " [9340725, 'Luciano Leber  ', 0, 0, 1, nan],\n",
       " [4296145, 'Jazmine Clingman  ', 1, 0, 1, nan],\n",
       " [7764406, 'Alaine Rucker  ', 0, 0, 1, nan],\n",
       " [5985097, 'Tamra Hanshaw  ', 0, 0, 1, nan],\n",
       " [9492261, 'Barrett Villanueva  ', 1, 1, 0, nan],\n",
       " [3871351, 'Eloise Cournoyer  ', 1, 1, 0, nan],\n",
       " [758425, 'Noriko Mckern  ', 1, 1, 1, nan],\n",
       " [8119745, 'Karolyn Barefield  ', 0, 0, 0, nan],\n",
       " [6940128, 'Jong Roehr  ', 0, 1, 0, nan],\n",
       " [5916945, 'Johnna Jaynes  ', 1, 1, 1, nan],\n",
       " [5277319, 'Johnny Mansfield  ', 1, 0, 0, nan],\n",
       " [1491778, 'Librada Rank  ', 0, 0, 1, nan],\n",
       " [8700841, 'Rodrick Pinion  ', 0, 1, 0, nan],\n",
       " [4400340, 'Stanton Buteau  ', 0, 0, 0, nan],\n",
       " [4237305, 'Grayce Barmore  ', 0, 0, 0, nan]]"
      ]
     },
     "execution_count": 32,
     "metadata": {},
     "output_type": "execute_result"
    }
   ],
   "source": [
    "data.values.tolist()"
   ]
  },
  {
   "cell_type": "code",
   "execution_count": null,
   "metadata": {},
   "outputs": [],
   "source": []
  }
 ],
 "metadata": {
  "kernelspec": {
   "display_name": "Python 3",
   "language": "python",
   "name": "python3"
  },
  "language_info": {
   "codemirror_mode": {
    "name": "ipython",
    "version": 3
   },
   "file_extension": ".py",
   "mimetype": "text/x-python",
   "name": "python",
   "nbconvert_exporter": "python",
   "pygments_lexer": "ipython3",
   "version": "3.7.3"
  }
 },
 "nbformat": 4,
 "nbformat_minor": 2
}
